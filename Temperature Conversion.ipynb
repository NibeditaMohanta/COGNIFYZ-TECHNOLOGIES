{
 "cells": [
  {
   "cell_type": "code",
   "execution_count": 1,
   "id": "eccd7cfb-298a-43b9-b92a-4d5d078cf9fb",
   "metadata": {},
   "outputs": [
    {
     "name": "stdin",
     "output_type": "stream",
     "text": [
      "Enter the temperature value:  56\n",
      "Enter the unit (C for Celsius, F for Fahrenheit):  C\n"
     ]
    },
    {
     "name": "stdout",
     "output_type": "stream",
     "text": [
      "56.0°C is equal to 132.80°F\n"
     ]
    }
   ],
   "source": [
    "temp = float(input(\"Enter the temperature value: \"))\n",
    "unit = input(\"Enter the unit (C for Celsius, F for Fahrenheit): \").strip().upper()\n",
    "\n",
    "if unit == \"C\":\n",
    "    # Celsius to Fahrenheit\n",
    "    fahrenheit = (temp * 9/5) + 32\n",
    "    print(f\"{temp}°C is equal to {fahrenheit:.2f}°F\")\n",
    "elif unit == \"F\":\n",
    "    # Fahrenheit to Celsius\n",
    "    celsius = (temp - 32) * 5/9\n",
    "    print(f\"{temp}°F is equal to {celsius:.2f}°C\")\n",
    "else:\n",
    "    print(\"Invalid unit! Please enter C for Celsius or F for Fahrenheit.\")"
   ]
  },
  {
   "cell_type": "code",
   "execution_count": null,
   "id": "b6d26300-2de9-4508-8564-605c1e22da70",
   "metadata": {},
   "outputs": [],
   "source": []
  }
 ],
 "metadata": {
  "kernelspec": {
   "display_name": "Python [conda env:base] *",
   "language": "python",
   "name": "conda-base-py"
  },
  "language_info": {
   "codemirror_mode": {
    "name": "ipython",
    "version": 3
   },
   "file_extension": ".py",
   "mimetype": "text/x-python",
   "name": "python",
   "nbconvert_exporter": "python",
   "pygments_lexer": "ipython3",
   "version": "3.12.7"
  }
 },
 "nbformat": 4,
 "nbformat_minor": 5
}
