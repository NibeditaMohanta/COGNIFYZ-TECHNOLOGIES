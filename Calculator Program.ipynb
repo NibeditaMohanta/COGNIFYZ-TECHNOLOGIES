{
 "cells": [
  {
   "cell_type": "code",
   "execution_count": 1,
   "id": "0804a383-1399-4e48-9e3f-1107de741cbf",
   "metadata": {},
   "outputs": [
    {
     "name": "stdout",
     "output_type": "stream",
     "text": [
      "Simple Calculator\n",
      "Select operation:\n",
      "1. ADD\n",
      "2. SUBTRACT\n",
      "3. MULTIPLY\n",
      "4. DIVIDE\n"
     ]
    },
    {
     "name": "stdin",
     "output_type": "stream",
     "text": [
      "Enter first number:  34\n",
      "Enter second number:  56\n",
      "Enter the operation(1/2/3/4): 4\n"
     ]
    },
    {
     "name": "stdout",
     "output_type": "stream",
     "text": [
      "34.0/56.0 = 0.6071428571428571\n"
     ]
    }
   ],
   "source": [
    "def calculator():\n",
    "    print(\"Simple Calculator\")\n",
    "    print(\"Select operation:\")\n",
    "    print(\"1. ADD\")\n",
    "    print(\"2. SUBTRACT\")\n",
    "    print(\"3. MULTIPLY\")\n",
    "    print(\"4. DIVIDE\")\n",
    "          \n",
    "    num1 = float(input(\"Enter first number: \"))\n",
    "    num2 = float(input(\"Enter second number: \"))\n",
    "    choice = input(\"Enter the operation(1/2/3/4):\")\n",
    "\n",
    "    if choice == '1':\n",
    "       result = num1 + num2\n",
    "       operation = \"+\"\n",
    "    elif choice == '2':\n",
    "         result = num1 - num2\n",
    "         operation = \"-\"\n",
    "    elif choice == '3':\n",
    "         result = num1 * num2\n",
    "         operation = \"*\"\n",
    "    elif choice == '4':\n",
    "      if num2!= 0:\n",
    "         result = num1 / num2\n",
    "         operation = \"/\"\n",
    "      else:\n",
    "         print(\"Error: Dividion by zero not allowed.\")\n",
    "         return\n",
    "    else:\n",
    "         print(\"Invalid input\")\n",
    "         return\n",
    "\n",
    "    print(f\"{num1}{operation}{num2} = {result}\")\n",
    "calculator()"
   ]
  },
  {
   "cell_type": "code",
   "execution_count": null,
   "id": "74ff52ab-fad7-4b0c-a301-26009fd4ba0e",
   "metadata": {},
   "outputs": [],
   "source": []
  }
 ],
 "metadata": {
  "kernelspec": {
   "display_name": "Python [conda env:base] *",
   "language": "python",
   "name": "conda-base-py"
  },
  "language_info": {
   "codemirror_mode": {
    "name": "ipython",
    "version": 3
   },
   "file_extension": ".py",
   "mimetype": "text/x-python",
   "name": "python",
   "nbconvert_exporter": "python",
   "pygments_lexer": "ipython3",
   "version": "3.12.7"
  }
 },
 "nbformat": 4,
 "nbformat_minor": 5
}
