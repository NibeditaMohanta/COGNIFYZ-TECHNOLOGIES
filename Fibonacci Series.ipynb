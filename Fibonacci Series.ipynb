{
 "cells": [
  {
   "cell_type": "markdown",
   "id": "c24c12ad-07ed-41a2-b898-f278c86c5a4e",
   "metadata": {},
   "source": [
    "### Level 2 Task 4: Fibonacci Sequence"
   ]
  },
  {
   "cell_type": "code",
   "execution_count": 1,
   "id": "e5979bd5-7d31-4f84-9456-0786bd630122",
   "metadata": {},
   "outputs": [
    {
     "name": "stdin",
     "output_type": "stream",
     "text": [
      "Enter the number of terms:  6\n"
     ]
    },
    {
     "name": "stdout",
     "output_type": "stream",
     "text": [
      "Fibonacci Sequence is :  [0, 1, 1, 2, 3, 5]\n"
     ]
    }
   ],
   "source": [
    "def fibonacci_sequence(n_terms):\n",
    "    a,b = 0,1\n",
    "    sequence =[]\n",
    "\n",
    "    for _ in range(n_terms):\n",
    "        sequence.append(a)\n",
    "        a,b = b , a+b \n",
    "    return sequence\n",
    "\n",
    "i = int(input(\"Enter the number of terms: \"))\n",
    "if i<=0:\n",
    "    print(\"Please enter a positive number. \")\n",
    "else: \n",
    "    result = fibonacci_sequence(i)\n",
    "    print(\"Fibonacci Sequence is : \",result)"
   ]
  },
  {
   "cell_type": "code",
   "execution_count": null,
   "id": "e7ac9744-ed2c-4016-ae5c-d371c42dddfc",
   "metadata": {},
   "outputs": [],
   "source": []
  }
 ],
 "metadata": {
  "kernelspec": {
   "display_name": "Python [conda env:base] *",
   "language": "python",
   "name": "conda-base-py"
  },
  "language_info": {
   "codemirror_mode": {
    "name": "ipython",
    "version": 3
   },
   "file_extension": ".py",
   "mimetype": "text/x-python",
   "name": "python",
   "nbconvert_exporter": "python",
   "pygments_lexer": "ipython3",
   "version": "3.12.7"
  }
 },
 "nbformat": 4,
 "nbformat_minor": 5
}
