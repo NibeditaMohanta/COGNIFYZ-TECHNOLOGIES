{
 "cells": [
  {
   "cell_type": "code",
   "execution_count": 1,
   "id": "2ce4b55b-1852-4a79-b0bc-c1470bea5e62",
   "metadata": {},
   "outputs": [
    {
     "name": "stdout",
     "output_type": "stream",
     "text": [
      "True\n",
      "True\n",
      "False\n",
      "False\n",
      "False\n"
     ]
    }
   ],
   "source": [
    "def is_valid_email(email):\n",
    "    # Basic format check\n",
    "    if \"@\" not in email or email.count(\"@\") != 1:\n",
    "        return False\n",
    "    \n",
    "    local_part, domain_part = email.split(\"@\")\n",
    "    \n",
    "    # Local part and domain part should not be empty\n",
    "    if not local_part or not domain_part:\n",
    "        return False\n",
    "    \n",
    "    # Domain must have at least one dot, and not start or end with dot\n",
    "    if \".\" not in domain_part or domain_part.startswith(\".\") or domain_part.endswith(\".\"):\n",
    "        return False\n",
    "    \n",
    "    return True\n",
    "\n",
    "# Example usage\n",
    "print(is_valid_email(\"user@example.com\"))   # True\n",
    "print(is_valid_email(\"user.name@domain.co\"))# True\n",
    "print(is_valid_email(\"user@.com\"))          # False\n",
    "print(is_valid_email(\"user@domain\"))        # False\n",
    "print(is_valid_email(\"userdomain.com\"))     # False"
   ]
  },
  {
   "cell_type": "code",
   "execution_count": null,
   "id": "d89b8ddb-57b2-4029-8b53-b3b5b5ab3020",
   "metadata": {},
   "outputs": [],
   "source": []
  }
 ],
 "metadata": {
  "kernelspec": {
   "display_name": "Python [conda env:base] *",
   "language": "python",
   "name": "conda-base-py"
  },
  "language_info": {
   "codemirror_mode": {
    "name": "ipython",
    "version": 3
   },
   "file_extension": ".py",
   "mimetype": "text/x-python",
   "name": "python",
   "nbconvert_exporter": "python",
   "pygments_lexer": "ipython3",
   "version": "3.12.7"
  }
 },
 "nbformat": 4,
 "nbformat_minor": 5
}
