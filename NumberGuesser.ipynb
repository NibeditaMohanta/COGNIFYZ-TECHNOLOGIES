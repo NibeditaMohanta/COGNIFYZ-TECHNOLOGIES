{
 "cells": [
  {
   "cell_type": "markdown",
   "id": "b609bb0e-1dbb-4d63-8fe9-340809971379",
   "metadata": {},
   "source": [
    "### Level 2 Task 2: Number Guesser"
   ]
  },
  {
   "cell_type": "code",
   "execution_count": 2,
   "id": "21102af5-9a13-4445-b846-47ef7bb06c24",
   "metadata": {},
   "outputs": [
    {
     "name": "stdin",
     "output_type": "stream",
     "text": [
      "Enter the lower bound oh the range :  34\n",
      "Enter the upper bound of the range :  89\n"
     ]
    },
    {
     "name": "stdout",
     "output_type": "stream",
     "text": [
      "I have choosen a number between the 34 and the 89. Lets guess it ! \n"
     ]
    },
    {
     "name": "stdin",
     "output_type": "stream",
     "text": [
      "Enter the number that you have guesed :  56\n"
     ]
    },
    {
     "name": "stdout",
     "output_type": "stream",
     "text": [
      "You guess too High . Please guess again. \n"
     ]
    },
    {
     "name": "stdin",
     "output_type": "stream",
     "text": [
      "Enter the number that you have guesed :  45\n"
     ]
    },
    {
     "name": "stdout",
     "output_type": "stream",
     "text": [
      "You guess too High . Please guess again. \n"
     ]
    },
    {
     "name": "stdin",
     "output_type": "stream",
     "text": [
      "Enter the number that you have guesed :  34\n"
     ]
    },
    {
     "name": "stdout",
     "output_type": "stream",
     "text": [
      "You guessed too Low . Please guess again.\n"
     ]
    },
    {
     "name": "stdin",
     "output_type": "stream",
     "text": [
      "Enter the number that you have guesed :  38\n"
     ]
    },
    {
     "name": "stdout",
     "output_type": "stream",
     "text": [
      "You guessed too Low . Please guess again.\n"
     ]
    },
    {
     "name": "stdin",
     "output_type": "stream",
     "text": [
      "Enter the number that you have guesed :  40\n"
     ]
    },
    {
     "name": "stdout",
     "output_type": "stream",
     "text": [
      "You guessed too Low . Please guess again.\n"
     ]
    },
    {
     "name": "stdin",
     "output_type": "stream",
     "text": [
      "Enter the number that you have guesed :  44\n"
     ]
    },
    {
     "name": "stdout",
     "output_type": "stream",
     "text": [
      "You guess too High . Please guess again. \n"
     ]
    },
    {
     "name": "stdin",
     "output_type": "stream",
     "text": [
      "Enter the number that you have guesed :  43\n"
     ]
    },
    {
     "name": "stdout",
     "output_type": "stream",
     "text": [
      "HURRAY ! CONGRATULATIONS !! You guessed the number 43 correctly in 7 attempts . \n"
     ]
    }
   ],
   "source": [
    "import random\n",
    "def number_guesser():\n",
    "    print(\"Welcome to the Number Guessing Game !! \")\n",
    "\n",
    "lower = int(input(\"Enter the lower bound oh the range : \"))\n",
    "upper = int(input(\"Enter the upper bound of the range : \"))\n",
    "\n",
    "secret_num = random.randint(lower , upper)\n",
    "attempts = 0\n",
    "\n",
    "print(f\"I have choosen a number between the {lower} and the {upper}. Lets guess it ! \")\n",
    "\n",
    "while True:\n",
    "    guess = int(input(\"Enter the number that you have guesed : \"))\n",
    "    attempts += 1\n",
    "\n",
    "    if guess < secret_num:\n",
    "        print(\"You guessed too Low . Please guess again.\")\n",
    "    elif guess > secret_num:\n",
    "        print(\"You guess too High . Please guess again. \")       \n",
    "    else:\n",
    "        print(f\"HURRAY ! CONGRATULATIONS !! You guessed the number {secret_num} correctly in {attempts} attempts . \") \n",
    "        break"
   ]
  },
  {
   "cell_type": "code",
   "execution_count": null,
   "id": "3ce0ad96-84b7-44ed-a979-25c28a507250",
   "metadata": {},
   "outputs": [],
   "source": []
  }
 ],
 "metadata": {
  "kernelspec": {
   "display_name": "Python [conda env:base] *",
   "language": "python",
   "name": "conda-base-py"
  },
  "language_info": {
   "codemirror_mode": {
    "name": "ipython",
    "version": 3
   },
   "file_extension": ".py",
   "mimetype": "text/x-python",
   "name": "python",
   "nbconvert_exporter": "python",
   "pygments_lexer": "ipython3",
   "version": "3.12.7"
  }
 },
 "nbformat": 4,
 "nbformat_minor": 5
}
