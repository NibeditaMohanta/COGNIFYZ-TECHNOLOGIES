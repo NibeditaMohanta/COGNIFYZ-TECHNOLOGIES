{
 "cells": [
  {
   "cell_type": "markdown",
   "id": "30fb28f0-fd96-464e-b8b0-ed2bbeae6966",
   "metadata": {},
   "source": [
    "### Level 2 Task 1: Guessing Game"
   ]
  },
  {
   "cell_type": "code",
   "execution_count": null,
   "id": "728781d7-7381-49c3-9458-6b29444633a4",
   "metadata": {},
   "outputs": [],
   "source": [
    "import random\n",
    "\n",
    "secret_num = random.randint(1,100)\n",
    "attempts = 0\n",
    "\n",
    "print(\"Welcome to the Number Guessing Game ! \")\n",
    "print(\"I have choosen a number between 1 and 100 .\")\n",
    "\n",
    "while True:\n",
    "    guess = int(input(\"Enter the number that you have guessed : \"))\n",
    "    attempts += 1\n",
    "\n",
    "    if guess < secret_num:\n",
    "        print(\"You guess too low . Please try again. \")\n",
    "    elif guess > secret_num:\n",
    "        print(\"You guess too high . Please try again. \")\n",
    "    else:\n",
    "        print(f\"HURRAY ! CONGRATULATIONS ! You guessed it in {attempts} attempts . \")\n",
    "        break"
   ]
  }
 ],
 "metadata": {
  "kernelspec": {
   "display_name": "Python [conda env:base] *",
   "language": "python",
   "name": "conda-base-py"
  },
  "language_info": {
   "codemirror_mode": {
    "name": "ipython",
    "version": 3
   },
   "file_extension": ".py",
   "mimetype": "text/x-python",
   "name": "python",
   "nbconvert_exporter": "python",
   "pygments_lexer": "ipython3",
   "version": "3.12.7"
  }
 },
 "nbformat": 4,
 "nbformat_minor": 5
}
