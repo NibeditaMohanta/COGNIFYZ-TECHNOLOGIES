{
 "cells": [
  {
   "cell_type": "markdown",
   "id": "6d87839d-2184-4c86-bc14-f873d7176617",
   "metadata": {},
   "source": [
    "### Level 2 Task 3 :Password Strength Checker"
   ]
  },
  {
   "cell_type": "code",
   "execution_count": 1,
   "id": "0ec73eeb-a4f9-4486-85ee-ffcdaa715102",
   "metadata": {},
   "outputs": [
    {
     "name": "stdin",
     "output_type": "stream",
     "text": [
      "Enter a password to check whether it is strong or weak password :  Nibedita@22\n"
     ]
    },
    {
     "name": "stdout",
     "output_type": "stream",
     "text": [
      " STRONG PASSWORD \n"
     ]
    }
   ],
   "source": [
    "import re \n",
    "\n",
    "def password_strength_checker(password):\n",
    "\n",
    "    length_error = len(password) < 8 \n",
    "    uppercase_error = re.search(r\"[A-Z]\",password) is None\n",
    "    lowercase_error = re.search(r\"[a-z]\",password) is None\n",
    "    digit_error = re.search(r\"\\d\",password) is None\n",
    "    special_char_error = re.search(r\"[!@#$%^&*(),.?\\:;{}|<>]\",password) is None\n",
    "\n",
    "    errors = []\n",
    "    if length_error:\n",
    "        errors.append(\"Password must be atleast 8 characters long. \")\n",
    "    if uppercase_error:\n",
    "        errors.append(\"Password must contain atleast one uppercase letter. \")\n",
    "    if lowercase_error:\n",
    "        errors.append(\"Password must contain atleast one lowercase letter. \")\n",
    "    if digit_error:\n",
    "        errors.append(\"Password must contain atleast one digit. \")\n",
    "    if special_char_error:\n",
    "        errors.append(\"Password must contain atleast one special character. \")\n",
    "    \n",
    "    if not errors:\n",
    "        return \" STRONG PASSWORD \"\n",
    "    else:\n",
    "        return\"\\n\".join(errors)\n",
    "\n",
    "user_password = input(\"Enter a password to check whether it is strong or weak password : \")\n",
    "print(password_strength_checker(user_password))"
   ]
  },
  {
   "cell_type": "code",
   "execution_count": null,
   "id": "a0c3379f-e80f-43d6-bb60-241bf2648ab7",
   "metadata": {},
   "outputs": [],
   "source": []
  }
 ],
 "metadata": {
  "kernelspec": {
   "display_name": "Python [conda env:base] *",
   "language": "python",
   "name": "conda-base-py"
  },
  "language_info": {
   "codemirror_mode": {
    "name": "ipython",
    "version": 3
   },
   "file_extension": ".py",
   "mimetype": "text/x-python",
   "name": "python",
   "nbconvert_exporter": "python",
   "pygments_lexer": "ipython3",
   "version": "3.12.7"
  }
 },
 "nbformat": 4,
 "nbformat_minor": 5
}
